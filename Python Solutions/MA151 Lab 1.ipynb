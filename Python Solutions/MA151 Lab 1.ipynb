{
 "cells": [
  {
   "cell_type": "code",
   "execution_count": 1,
   "metadata": {},
   "outputs": [],
   "source": [
    "from sympy import *\n",
    "from sympy.plotting import (plot, plot_parametric)"
   ]
  },
  {
   "cell_type": "markdown",
   "metadata": {},
   "source": [
    "# 1a Evaluate expression"
   ]
  },
  {
   "cell_type": "code",
   "execution_count": 2,
   "metadata": {},
   "outputs": [
    {
     "name": "stdout",
     "output_type": "stream",
     "text": [
      "The answer to 1a is 39.3419462186456\n"
     ]
    }
   ],
   "source": [
    "print('The answer to 1a is', sqrt(8+80/2.6)+ exp(3.5))"
   ]
  },
  {
   "cell_type": "markdown",
   "metadata": {},
   "source": [
    "# 1b Evaluate expression"
   ]
  },
  {
   "cell_type": "code",
   "execution_count": 3,
   "metadata": {},
   "outputs": [
    {
     "name": "stdout",
     "output_type": "stream",
     "text": [
      "The answer to 1b is 8.74958755825782\n"
     ]
    }
   ],
   "source": [
    "print('The answer to 1b is', (23+45**(1/3))/(16*0.7)+log(589.006))"
   ]
  },
  {
   "cell_type": "markdown",
   "metadata": {},
   "source": [
    "# 2a Evaluate variable expression"
   ]
  },
  {
   "cell_type": "code",
   "execution_count": 4,
   "metadata": {},
   "outputs": [
    {
     "name": "stdout",
     "output_type": "stream",
     "text": [
      "The answer to 2a is 29.3244518525092\n"
     ]
    }
   ],
   "source": [
    "x = 4.6\n",
    "y = 1.7\n",
    "part_a = sqrt(x+y)/(x-y)**2 +2*x**2 - x*y**2\n",
    "print('The answer to 2a is', part_a)"
   ]
  },
  {
   "cell_type": "markdown",
   "metadata": {},
   "source": [
    "# 2b Evaluate variable expression and test equality"
   ]
  },
  {
   "cell_type": "code",
   "execution_count": 5,
   "metadata": {},
   "outputs": [
    {
     "name": "stdout",
     "output_type": "stream",
     "text": [
      "The answer to 2b is 4.90407993409569\n",
      "This is NOT equal to x+y, or 6.3\n"
     ]
    }
   ],
   "source": [
    "part_b = sqrt(x**2 + y**2)\n",
    "print('The answer to 2b is', part_b)\n",
    "print('This is NOT equal to x+y, or 6.3')"
   ]
  },
  {
   "cell_type": "markdown",
   "metadata": {},
   "source": [
    "# 3a magnitudes of vectors"
   ]
  },
  {
   "cell_type": "code",
   "execution_count": 6,
   "metadata": {},
   "outputs": [
    {
     "name": "stdout",
     "output_type": "stream",
     "text": [
      "The magnitude of vector a is 17.0935923667320\n",
      "The magnitude of vector b is 11.1061649546547\n"
     ]
    }
   ],
   "source": [
    "mag_a = sqrt(9.1**2 + 14.47**2)\n",
    "print('The magnitude of vector a is', mag_a)\n",
    "mag_b = sqrt((-5.55)**2 + 9.62**2)\n",
    "print('The magnitude of vector b is', mag_b)"
   ]
  },
  {
   "cell_type": "markdown",
   "metadata": {},
   "source": [
    "# 3b angle C using Law of Cosines"
   ]
  },
  {
   "cell_type": "code",
   "execution_count": 7,
   "metadata": {},
   "outputs": [
    {
     "name": "stdout",
     "output_type": "stream",
     "text": [
      "The cosine of the angle between the vectors is 0.467206128005667\n"
     ]
    }
   ],
   "source": [
    "c = sqrt((9.1+5.55)**2+(14.47-9.62)**2)\n",
    "cosC = (mag_a**2 + mag_b**2 - c**2)/(2*mag_a*mag_b)\n",
    "print('The cosine of the angle between the vectors is', cosC)"
   ]
  },
  {
   "cell_type": "markdown",
   "metadata": {},
   "source": [
    "# 3c angle C using dot product"
   ]
  },
  {
   "cell_type": "code",
   "execution_count": 8,
   "metadata": {},
   "outputs": [
    {
     "name": "stdout",
     "output_type": "stream",
     "text": [
      "The cosine of the angle between the vectors is 0.467206128005667 which agrees with part b\n"
     ]
    }
   ],
   "source": [
    "cosC = (9.1*(-5.55)+14.47*9.62)/(mag_a*mag_b)\n",
    "print('The cosine of the angle between the vectors is', cosC, 'which agrees with part b')"
   ]
  },
  {
   "cell_type": "code",
   "execution_count": null,
   "metadata": {},
   "outputs": [],
   "source": []
  }
 ],
 "metadata": {
  "kernelspec": {
   "display_name": "Python 3",
   "language": "python",
   "name": "python3"
  },
  "language_info": {
   "codemirror_mode": {
    "name": "ipython",
    "version": 3
   },
   "file_extension": ".py",
   "mimetype": "text/x-python",
   "name": "python",
   "nbconvert_exporter": "python",
   "pygments_lexer": "ipython3",
   "version": "3.7.3"
  }
 },
 "nbformat": 4,
 "nbformat_minor": 2
}
